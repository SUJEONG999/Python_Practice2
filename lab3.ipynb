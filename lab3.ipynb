{
 "cells": [
  {
   "cell_type": "code",
   "execution_count": 7,
   "metadata": {},
   "outputs": [],
   "source": [
    "import requests\n",
    "from bs4 import BeautifulSoup\n",
    "import re\n",
    "req = requests.get('https://news.daum.net/ranking/popular/')\n",
    "html = req.text\n",
    "soup = BeautifulSoup(html, 'html.parser')\n",
    "newstitles = soup.select('div.cont_thumb > strong > a')\n",
    "newscompanynames = soup.select('div.cont_thumb > strong > span')\n",
    "\n",
    "newstitle = []\n",
    "newscomname = []\n",
    "\n",
    "for dom in newstitles:\n",
    "    newstitle.append(dom.text)\n",
    "    \n",
    "for dom in newscompanynames:\n",
    "    newscomname.append(dom.text)\n",
    "\n",
    "commentLength = len(newscomname)  \n",
    " \n",
    "with open('output/news.csv', \"wt\", encoding=\"utf-8\") as f:\n",
    "    f.write('newstitle,newscomname\\n')  \n",
    "    for i in range(commentLength):\n",
    "        f.write(newstitle[i]+\",\"+newscomname[i]+'\\n')"
   ]
  },
  {
   "cell_type": "code",
   "execution_count": 2,
   "metadata": {},
   "outputs": [],
   "source": [
    "# 또다른 저장방법 (판다스)\n",
    "\n",
    "import pandas as pd\n",
    "import requests\n",
    "from bs4 import BeautifulSoup\n",
    "import re\n",
    "import os\n",
    "req = requests.get('https://news.daum.net/ranking/popular/')\n",
    "html = req.text\n",
    "soup = BeautifulSoup(html, 'html.parser')\n",
    "newstitles = soup.select('#mArticle > div.rank_news > ul.list_news2 > li > div.cont_thumb > strong > a')\n",
    "newscompanynames = soup.select('#mArticle > div.rank_news > ul.list_news2 > li> div.cont_thumb > strong > span')\n",
    "\n",
    "newstitle = []\n",
    "newscomname = []\n",
    "\n",
    "for dom in newstitles:\n",
    "    newstitle.append(dom.text)\n",
    "    \n",
    "for dom in newscompanynames:\n",
    "    newscomname.append(dom.text)\n",
    "\n",
    "commentLength = len(newscomname)\n",
    "\n",
    "from pandas import Series, DataFrame\n",
    "\n",
    "df = DataFrame({\"newstitle\":newstitle,  \"newscomname\":newscomname})\n",
    "df\n",
    "df.to_csv('output/news_new.csv', index=False, mode='w', encoding=\"utf-8\")"
   ]
  },
  {
   "cell_type": "code",
   "execution_count": null,
   "metadata": {},
   "outputs": [],
   "source": []
  }
 ],
 "metadata": {
  "kernelspec": {
   "display_name": "pydatavenv",
   "language": "python",
   "name": "pydatavenv"
  },
  "language_info": {
   "codemirror_mode": {
    "name": "ipython",
    "version": 3
   },
   "file_extension": ".py",
   "mimetype": "text/x-python",
   "name": "python",
   "nbconvert_exporter": "python",
   "pygments_lexer": "ipython3",
   "version": "3.8.8"
  }
 },
 "nbformat": 4,
 "nbformat_minor": 4
}
