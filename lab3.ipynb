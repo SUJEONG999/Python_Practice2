{
 "cells": [
  {
   "cell_type": "code",
   "execution_count": 5,
   "metadata": {},
   "outputs": [],
   "source": [
    "import requests\n",
    "from bs4 import BeautifulSoup\n",
    "import re\n",
    "req = requests.get('https://news.daum.net/ranking/popular/')\n",
    "html = req.text\n",
    "soup = BeautifulSoup(html, 'html.parser')\n",
    "newstitles = soup.select('div.cont_thumb > strong > a')\n",
    "newscompanynames = soup.select('div.cont_thumb > strong > span')\n",
    "\n",
    "newstitle = []\n",
    "newscomname = []\n",
    "\n",
    "for dom in newstitles:\n",
    "    newstitle.append(dom.text)\n",
    "    \n",
    "for dom in newscompanynames:\n",
    "    newscomname.append(dom.text)\n",
    "\n",
    "commentLength = len(newscomname)  \n",
    " \n",
    "with open('output/news.csv', \"wt\", encoding=\"utf-8\") as f:\n",
    "    f.write('newstitle,newscomname\\n')  \n",
    "    for i in range(commentLength):\n",
    "        f.write(newstitle[i]+\",\"+newscomname[i]+'\\n')"
   ]
  },
  {
   "cell_type": "code",
   "execution_count": null,
   "metadata": {},
   "outputs": [],
   "source": []
  }
 ],
 "metadata": {
  "kernelspec": {
   "display_name": "pydatavenv",
   "language": "python",
   "name": "pydatavenv"
  },
  "language_info": {
   "codemirror_mode": {
    "name": "ipython",
    "version": 3
   },
   "file_extension": ".py",
   "mimetype": "text/x-python",
   "name": "python",
   "nbconvert_exporter": "python",
   "pygments_lexer": "ipython3",
   "version": "3.8.8"
  }
 },
 "nbformat": 4,
 "nbformat_minor": 4
}
