{
 "cells": [
  {
   "cell_type": "code",
   "execution_count": null,
   "metadata": {},
   "outputs": [],
   "source": [
    "import os\n",
    "import sys\n",
    "import urllib.request\n",
    "import datetime\n",
    "import time\n",
    "import json\n",
    "\n",
    "client_id = '0LHQM4VX_MQM6JfkXofa'\n",
    "client_secret = 'OcPgqpswCg'\n",
    "\n",
    "def naver_search(keyword, callType = 'JSON') :\n",
    "    query = urllib.parse.quote_plus(keyword)\n",
    "    if callType == 'JSON' :\n",
    "        c_type = 'json'\n",
    "    else:\n",
    "        c_type = 'xml'\n",
    "    url = 'https://openapi.naver.com/v1/search/local.' + c_type + '?query=' + query + '&display=5'\n",
    "    \n",
    "    request = urllib.request.Request(url)\n",
    "    request.add_header(\"X-Naver-Client-Id\", client_id)\n",
    "    request.add_header(\"X-Naver-Client-Secret\", client_secret)\n",
    "    response = urllib.request.urlopen(request)\n",
    "    rescode = response.getcode()\n",
    "    \n",
    "    if rescode == 200:\n",
    "        if c_type == 'json':\n",
    "            response_body = response.read()\n",
    "            dataList = json.loads(response_body)\n",
    "            print(dataList)\n",
    "            count = 1\n",
    "            print('[' + keyword + '집에 대한 네이버 지역 정보(JSON)')\n",
    "            for data in dataList['items'] :\n",
    "                print(str(count) + ' : ' + data['title'] + ',' + data['address'])\n",
    "                count += 1\n",
    "        else:\n",
    "            print(response.read().decode('utf-8'))\n",
    "            soup = BeautifulSoup(response.read().decode('utf-8'), 'xml')\n",
    "            count += 1\n",
    "            print('[' + keyword + '집에 대한 네이버 지역 정보(XML) ]')\n",
    "            for itemList in soup.find_all('item'):\n",
    "                title = itemList.find('title').string\n",
    "                address = itemList.find('address').string\n",
    "                print(str(count) + ' : ' + title + ',' + address)\n",
    "                count += 1\n",
    "    else :\n",
    "        print('오류 코드 : ' + rescode)\n",
    "            "
   ]
  }
 ],
 "metadata": {
  "kernelspec": {
   "display_name": "pydatavenv",
   "language": "python",
   "name": "pydatavenv"
  },
  "language_info": {
   "codemirror_mode": {
    "name": "ipython",
    "version": 3
   },
   "file_extension": ".py",
   "mimetype": "text/x-python",
   "name": "python",
   "nbconvert_exporter": "python",
   "pygments_lexer": "ipython3",
   "version": "3.8.8"
  }
 },
 "nbformat": 4,
 "nbformat_minor": 4
}
